{
 "cells": [
  {
   "cell_type": "code",
   "execution_count": null,
   "metadata": {},
   "outputs": [],
   "source": [
    "# ------------------------Importing packages---------------------------------------------\n",
    "import numpy as np\n",
    "%matplotlib inline \n",
    "from matplotlib import pyplot as plt\n",
    "\n",
    "#packages for the gui\n",
    "import tkinter as tk\n",
    "#import matplotlib canvas for tkinter\n",
    "from matplotlib.backends.backend_tkagg import (FigureCanvasTkAgg, NavigationToolbar2Tk)\n",
    "# Implement the default Matplotlib key bindings.\n",
    "from matplotlib.backend_bases import key_press_handler\n",
    "from matplotlib.figure import Figure\n",
    "#font definitions\n",
    "import tkinter.font as font\n",
    "helv36 = font.Font(family='Helvetica', size=36, weight='bold') # font type\n",
    "\n",
    "#-------------------------------------------------------------------------------------------"
   ]
  },
  {
   "cell_type": "code",
   "execution_count": 96,
   "metadata": {},
   "outputs": [],
   "source": [
    "#----------------------FUNCTIONS--------------------------------------\n",
    "\n",
    "def CREATE_FIELD(n):\n",
    "    '''Creates an n by n array of numbers represening the plane where the ant moves'''\n",
    "    return np.ones((n,n))  #white sites corresponding to ones blacks to zeros\n",
    "\n",
    "#data structure state dict has 2 elements: pos, direc : state={\"pos\" : np.array([i,j]), \"direc\" : np.array([0,1])}\n",
    "\n",
    "def MOVE(state,col):\n",
    "    '''Takes the position (pos) and the heading (int) of the ant in the plane and takes one step accoring to the rules \n",
    "    modifying the color of the site in the plane (field) giving back the new heading and coordinates '''\n",
    "    #pos: array of coordinates [x,y]\n",
    "    #direc array of a unit legnght direction vector {vx,vy}\n",
    "    #col: color of the location of the ant 1 (white) 0 (black)\n",
    "    #R: rotation matrix to determine the direction (clockvise)\n",
    "    R = np.array([[0,1],[-1,0]])\n",
    "    L = np.array([[0,-1],[1,0]])\n",
    "    \n",
    "    pos = state[\"pos\"]\n",
    "    direc = state[\"direc\"]\n",
    "    \n",
    "    #if the site the ant is in is 1 (white) ant turns 90 right \n",
    "    if (col):\n",
    "        direc = np.matmul(R,direc) # update direction\n",
    "    #if the site the is in is 0 (black) ant turns 90 left \n",
    "    else:\n",
    "        direc = np.matmul(L,direc) # update direction\n",
    "    \n",
    "    #after turn the ant moves forward   \n",
    "    pos = pos + direc # upadate position\n",
    "    \n",
    "    #new state\n",
    "    nstate={\"pos\" : pos, \"direc\" : direc}\n",
    "    \n",
    "    return(nstate)\n",
    "\n",
    "def ITER(N,n):\n",
    "    '''Iterates the langtons ant returnd the field as the result of the ants path. The ant starts from the middel facing north.'''\n",
    "    # N size of the plane in cells\n",
    "    # n number of iterations\n",
    "    \n",
    "    field = CREATE_FIELD(N)  #create the plane where the ant moves\n",
    "    pos1=np.array([round(N/2),round(N/2)])  # starting position is in the middle\n",
    "    direc1 = np.array([0,1])  # starting direction is to the north\n",
    "    state={\"pos\" : pos1, \"direc\" : direc1}   \n",
    "    \n",
    "    #iterating the ant n times\n",
    "    for i in range(n):\n",
    "        x = state[\"pos\"][0]\n",
    "        y = state[\"pos\"][1]\n",
    "        \n",
    "        #check that wether or not the new position is outside the plane\n",
    "        if ( (x < 0)  or (y < 0)  or  (x > (N-1))  or (y > (N-1)) ):\n",
    "            # iteration is stopped when the edge of the plane is reached\n",
    "            break\n",
    "            \n",
    "        field[x][y] = 1 - field[x][y] #the cell changes from 0 to 1 or 1 to 0 where the ant moves from \n",
    "        state = MOVE(state,field[x][y])  #calculating the next ant state\n",
    "    \n",
    "    return(field,i)\n",
    "#-------------------------------------------------------------------------"
   ]
  },
  {
   "cell_type": "code",
   "execution_count": 24,
   "metadata": {},
   "outputs": [
    {
     "data": {
      "image/png": "[encoded data removed]",
      "text/plain": [
       "<Figure size 432x288 with 1 Axes>"
      ]
     },
     "metadata": {
      "needs_background": "light"
     },
     "output_type": "display_data"
    }
   ],
   "source": [
    "field2 = ITER(200,12000)\n",
    "plt.imshow(field2, cmap='gray')\n",
    "plt.show()"
   ]
  },
  {
   "cell_type": "code",
   "execution_count": 133,
   "metadata": {},
   "outputs": [],
   "source": [
    "# --------------------functions for buttion clicks--------------------------\n",
    "def clicked():\n",
    "    N = int(inputfield_size.get())\n",
    "    n = int(inputfield_step.get())\n",
    "    (field,itnum) = ITER(N,n)\n",
    "    txt.delete(1.0, tk.END)\n",
    "    txt.insert(0.0,\"Number of \" +\"\\n\" + \"succesfull iterations : \" +\"\\n\"+ str(itnum+1))\n",
    "    pic.imshow(field, cmap='gray')\n",
    "    canvas.draw()\n",
    "    \n",
    "        \n",
    "\n",
    "#--------------------------------------------------------------------------------\n",
    "\n",
    "#Cretae window object\n",
    "win = tk.Tk()\n",
    "win.title(\"Langton\")\n",
    "\n",
    "# the window is separated into sections\n",
    "left_fr =tk.Frame(win,width=400, height = 600)\n",
    "left_fr.grid(row=0, column=0)\n",
    "right_fr =tk.Frame(win,width=800, height = 600)\n",
    "right_fr.grid(row=0, column=1)\n",
    "btn_fr = tk.Frame(left_fr, width = 150, height = 200)\n",
    "btn_fr.grid(columnspan=2,row =2)\n",
    "txt_fr = tk.Frame(left_fr, width = 150, height = 200)\n",
    "txt_fr.grid(columnspan=2,row =4)\n",
    "\n",
    "#left panel input fields\n",
    "\n",
    "lbl = tk.Label(left_fr, text=\"Field size :\")\n",
    "lbl.grid(column=0, row=0,padx = 10, pady = 2,sticky =tk.E)\n",
    "\n",
    "inputfield_size = tk.Entry(left_fr,width = 12)\n",
    "inputfield_size.grid(column=1, row=0,padx = 10, pady = 2)\n",
    "\n",
    "lbl = tk.Label(left_fr, text=\"Iteration number :\")\n",
    "lbl.grid(column=0, row=1,padx = 10, pady = 2,sticky =tk.E)\n",
    "\n",
    "inputfield_step = tk.Entry(left_fr,width = 12)\n",
    "inputfield_step.grid(column=1, row=1,padx = 10, pady = 2)\n",
    "\n",
    "#left panel button\n",
    "btn = tk.Button(btn_fr, text=\"Run\",command = clicked)\n",
    "btn.grid(column=0, row=0,padx = 10, pady = 2)\n",
    "btn['font'] = helv36\n",
    "\n",
    "#left panel info field\n",
    "txt = tk.Text(txt_fr,width=25, height=5, takefocus=0)\n",
    "txt.grid(column=0, row=0,padx = 10, pady = 2)\n",
    "txt.insert(0.0, \"Text to insert\")\n",
    "\n",
    "\n",
    "#right panel figure\n",
    "#create figure\n",
    "fig = Figure(figsize=(8, 6), dpi=100) \n",
    "pic = fig.add_subplot(111)\n",
    "\n",
    "# A tk.DrawingArea\n",
    "canvas = FigureCanvasTkAgg(fig, master=right_fr)\n",
    "canvas.draw()\n",
    "canvas.get_tk_widget().pack(side=tk.TOP, fill=tk.BOTH, expand=1)\n",
    "\n",
    "#adding toolbar\n",
    "toolbar = NavigationToolbar2Tk(canvas, right_fr)\n",
    "toolbar.update()\n",
    "canvas.get_tk_widget().pack(side=tk.TOP, fill=tk.BOTH, expand=1)\n",
    "\n",
    "#run the window\n",
    "win.mainloop()\n"
   ]
  },
  {
   "cell_type": "code",
   "execution_count": 86,
   "metadata": {},
   "outputs": [],
   "source": [
    "def g(x,y):\n",
    "    return(x,y)"
   ]
  },
  {
   "cell_type": "code",
   "execution_count": 128,
   "metadata": {},
   "outputs": [
    {
     "data": {
      "text/plain": [
       "1"
      ]
     },
     "execution_count": 128,
     "metadata": {},
     "output_type": "execute_result"
    }
   ],
   "source": [
    "(a,b) = g(1,2)\n",
    "a"
   ]
  },
  {
   "cell_type": "code",
   "execution_count": 90,
   "metadata": {},
   "outputs": [
    {
     "data": {
      "text/plain": [
       "array([0., 0., 0.])"
      ]
     },
     "execution_count": 90,
     "metadata": {},
     "output_type": "execute_result"
    }
   ],
   "source": [
    "(np.zeros(3),2)[0]"
   ]
  },
  {
   "cell_type": "code",
   "execution_count": 126,
   "metadata": {},
   "outputs": [
    {
     "data": {
      "text/plain": [
       "'hjl3'"
      ]
     },
     "execution_count": 126,
     "metadata": {},
     "output_type": "execute_result"
    }
   ],
   "source": [
    "\"hjl\"+str(3)"
   ]
  },
  {
   "cell_type": "code",
   "execution_count": null,
   "metadata": {},
   "outputs": [],
   "source": []
  }
 ],
 "metadata": {
  "kernelspec": {
   "display_name": "Python 3",
   "language": "python",
   "name": "python3"
  },
  "language_info": {
   "codemirror_mode": {
    "name": "ipython",
    "version": 3
   },
   "file_extension": ".py",
   "mimetype": "text/x-python",
   "name": "python",
   "nbconvert_exporter": "python",
   "pygments_lexer": "ipython3",
   "version": "3.7.4"
  }
 },
 "nbformat": 4,
 "nbformat_minor": 2
}
