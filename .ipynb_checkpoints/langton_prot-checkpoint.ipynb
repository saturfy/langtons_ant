{
 "cells": [
  {
   "cell_type": "code",
   "execution_count": 2,
   "metadata": {},
   "outputs": [],
   "source": [
    "# Importing packages\n",
    "import numpy as np\n",
    "%matplotlib inline \n",
    "from matplotlib import pyplot as plt\n",
    "\n",
    "\n",
    "#----------------------FUNCTIONS--------------------------------------\n",
    "\n",
    "def CREATE_FIELD(n):\n",
    "    '''Creates an n by n array of numbers represening the plane where the ant moves'''\n",
    "    return np.ones((n,n))  #white sites corresponding to ones blacks to zeros\n",
    "\n",
    "#data structure state dict has 2 elements: pos, direc : state={\"pos\" : np.array([i,j]), \"direc\" : np.array([0,1])}\n",
    "\n",
    "def MOVE(state,col):\n",
    "    '''Takes the position (pos) and the heading (int) of the ant in the plane and takes one step accoring to the rules \n",
    "    modifying the color of the site in the plane (field) giving back the new heading and coordinates '''\n",
    "    #pos: array of coordinates [x,y]\n",
    "    #direc array of a unit legnght direction vector {vx,vy}\n",
    "    #col: color of the location of the ant 1 (white) 0 (black)\n",
    "    #R: rotation matrix to determine the direction (clockvise)\n",
    "    R = np.array([[0,1],[-1,0]])\n",
    "    L = np.array([[0,-1],[1,0]])\n",
    "    \n",
    "    pos = state[\"pos\"]\n",
    "    direc = state[\"direc\"]\n",
    "    \n",
    "    #if the site the ant is in is 1 (white) ant turns 90 right \n",
    "    if (col):\n",
    "        direc = np.matmul(R,direc) # update direction\n",
    "    #if the site the is in is 0 (black) ant turns 90 left \n",
    "    else:\n",
    "        direc = np.matmul(L,direc) # update direction\n",
    "    \n",
    "    #after turn the ant moves forward   \n",
    "    pos = pos + direc # upadate position\n",
    "    \n",
    "    #new state\n",
    "    nstate={\"pos\" : pos, \"direc\" : direc}\n",
    "    \n",
    "    return(nstate)\n",
    "\n",
    "        \n",
    "#----------------------FUNCTIONS--------------------------------------"
   ]
  },
  {
   "cell_type": "code",
   "execution_count": 3,
   "metadata": {},
   "outputs": [],
   "source": [
    "N = 150  # size of the plane in cells\n",
    "field = CREATE_FIELD(N)  #create the plane where the ant moves\n",
    "pos1=np.array([round(N/2),round(N/2)])  # starting position is in the middle\n",
    "direc1 = np.array([0,1])  # starting direction is to the north\n",
    "state={\"pos\" : pos1, \"direc\" : direc1}"
   ]
  },
  {
   "cell_type": "code",
   "execution_count": 4,
   "metadata": {},
   "outputs": [
    {
     "name": "stdout",
     "output_type": "stream",
     "text": [
      "Outside of region. Steps:  12917\n"
     ]
    }
   ],
   "source": [
    "#iterating the ant n times\n",
    "n = 100000\n",
    "for i in range(n):\n",
    "    x = state[\"pos\"][0]\n",
    "    y = state[\"pos\"][1]\n",
    "    \n",
    "    #check that wether or not the new position is outside the plane\n",
    "    if ( (x < 0)  or (y < 0)  or  (x > (N-1))  or (y > (N-1)) ):\n",
    "        print(\"Outside of region. Steps: \", i)\n",
    "        break\n",
    "    \n",
    "    field[x][y] = 1 - field[x][y] #the cell changes from 0 to 1 or 1 to 0 if the ant moves from \n",
    "    \n",
    "    state = MOVE(state,field[x][y])  #calculating the next ant state\n"
   ]
  },
  {
   "cell_type": "code",
   "execution_count": 5,
   "metadata": {},
   "outputs": [
    {
     "data": {
      "image/png": "[encoded data removed]",
      "text/plain": [
       "<Figure size 432x288 with 1 Axes>"
      ]
     },
     "metadata": {
      "needs_background": "light"
     },
     "output_type": "display_data"
    }
   ],
   "source": [
    "plt.imshow(field, cmap='gray')\n",
    "plt.show()"
   ]
  },
  {
   "cell_type": "code",
   "execution_count": 6,
   "metadata": {},
   "outputs": [],
   "source": [
    "from matplotlib.backends.backend_tkagg import (\n",
    "    FigureCanvasTkAgg, NavigationToolbar2Tk)\n",
    "# Implement the default Matplotlib key bindings.\n",
    "from matplotlib.backend_bases import key_press_handler\n",
    "from matplotlib.figure import Figure\n",
    "\n",
    "import tkinter as tk\n",
    "window = tk.Tk()\n",
    " \n",
    "window.title(\"Langton's ant\")\n",
    "\n",
    "window.geometry('800x600')\n",
    "\n",
    "fig = Figure(figsize=(5, 4), dpi=100)\n",
    "\n",
    "pic = fig.add_subplot(111)\n",
    "\n",
    "pic.imshow(field, cmap='gray')\n",
    "\n",
    "canvas = FigureCanvasTkAgg(fig, master=window)  # A tk.DrawingArea.\n",
    "canvas.draw()\n",
    "canvas.get_tk_widget().pack(side=tk.TOP, fill=tk.BOTH, expand=1)\n",
    "\n",
    "toolbar = NavigationToolbar2Tk(canvas, window)\n",
    "toolbar.update()\n",
    "canvas.get_tk_widget().pack(side=tk.TOP, fill=tk.BOTH, expand=1)\n",
    " \n",
    "window.mainloop()"
   ]
  },
  {
   "cell_type": "code",
   "execution_count": 16,
   "metadata": {},
   "outputs": [],
   "source": [
    "window2 = tk.Tk()\n",
    "window2.title(\"Menu\")\n",
    "\n",
    "left_fr =tk.Frame(window2,width=200, height = 600)\n",
    "left_fr.grid(row=0, column=0)\n",
    "right_fr =tk.Frame(window2,width=800, height = 600)\n",
    "right_fr.grid(row=0, column=1)\n",
    "\n",
    "def clicked():\n",
    " \n",
    "    lbl.configure(text=\"Button was clicked !!\")\n",
    "\n",
    "lbl = tk.Label(left_fr, text=\"Hello\")\n",
    " \n",
    "lbl.grid(column=0, row=0)\n",
    "btn = tk.Button(left_fr, text=\"Click Me\",command = clicked)\n",
    "btn.grid(column=0, row=0)\n",
    "\n",
    "fig = Figure(figsize=(8, 6), dpi=100)\n",
    "\n",
    "pic = fig.add_subplot(111)\n",
    "\n",
    "pic.imshow(field, cmap='gray')\n",
    "\n",
    "canvas = FigureCanvasTkAgg(fig, master=right_fr)  # A tk.DrawingArea.\n",
    "canvas.draw()\n",
    "canvas.get_tk_widget().pack(side=tk.TOP, fill=tk.BOTH, expand=1)\n",
    "\n",
    "toolbar = NavigationToolbar2Tk(canvas, right_fr)\n",
    "toolbar.update()\n",
    "canvas.get_tk_widget().pack(side=tk.TOP, fill=tk.BOTH, expand=1)\n",
    "\n",
    "\n",
    "window2.mainloop()\n"
   ]
  },
  {
   "cell_type": "code",
   "execution_count": null,
   "metadata": {},
   "outputs": [],
   "source": []
  }
 ],
 "metadata": {
  "kernelspec": {
   "display_name": "Python 3",
   "language": "python",
   "name": "python3"
  },
  "language_info": {
   "codemirror_mode": {
    "name": "ipython",
    "version": 3
   },
   "file_extension": ".py",
   "mimetype": "text/x-python",
   "name": "python",
   "nbconvert_exporter": "python",
   "pygments_lexer": "ipython3",
   "version": "3.7.4"
  }
 },
 "nbformat": 4,
 "nbformat_minor": 2
}
